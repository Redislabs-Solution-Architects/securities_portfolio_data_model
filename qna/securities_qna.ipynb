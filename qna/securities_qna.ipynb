{
  "cells": [
    {
      "cell_type": "code",
      "id": "HqRohfRRZgFWtj1zYJIyvR5n",
      "metadata": {
        "tags": [],
        "id": "HqRohfRRZgFWtj1zYJIyvR5n"
      },
      "source": [
        "!pwd\n",
        "!pip install --upgrade pip\n",
        "\n",
        "# Install required libraries\n",
        "!python3 -m pip -q install redis\n",
        "!pip install -U langchain gradio\n",
        "!pip install -U langchain-core\n",
        "!pip install -U langchain-google-vertexai\n",
        "!pip install -U langchain-community\n"
      ],
      "execution_count": null,
      "outputs": []
    },
    {
      "cell_type": "code",
      "source": [
        "## Update the 'host' field with the correct Redis host URL\n",
        "host = ''\n",
        "port = 15337\n",
        "password = 'admin'\n"
      ],
      "metadata": {
        "id": "sjUooyI9VlAu"
      },
      "id": "sjUooyI9VlAu",
      "execution_count": null,
      "outputs": []
    },
    {
      "cell_type": "code",
      "source": [
        "import redis\n",
        "\n",
        "client = redis.Redis(host = host, port=port, decode_responses=True, password=password)\n",
        "\n",
        "print(client.ping())\n",
        "\n",
        "REDIS_URL = f\"redis://:{password}@{host}:{port}\"\n"
      ],
      "metadata": {
        "colab": {
          "base_uri": "https://localhost:8080/"
        },
        "id": "4UnZUjIFVxWA",
        "outputId": "f51ff3e0-9e92-4c6c-f515-373b1e5727a4"
      },
      "id": "4UnZUjIFVxWA",
      "execution_count": null,
      "outputs": [
        {
          "output_type": "stream",
          "name": "stdout",
          "text": [
            "True\n"
          ]
        }
      ]
    },
    {
      "cell_type": "code",
      "source": [
        "\n",
        "from redis.commands.search.field import NumericField, TextField, TagField, VectorField\n",
        "from redis.commands.search.indexDefinition import IndexDefinition, IndexType\n",
        "from redis.commands.search.query import NumericFilter, Query\n",
        "import redis.commands.search.aggregation as aggregations\n",
        "import redis.commands.search.reducers as reducers\n",
        "\n",
        "\n",
        "INDEX_NAME = f\"idx_scan_docs\"\n",
        "\n",
        "schema = (TextField(\"$.accountNo\", as_name=\"accountNo\"),\n",
        "          NumericField(\"$.date\", as_name=\"date\", sortable=True),\n",
        "          TextField(\"$.desc\", as_name=\"description\"),\n",
        "          VectorField(\"$.desc_vector\", \"HNSW\",\n",
        "              {\n",
        "              \"TYPE\": \"FLOAT32\",\n",
        "              \"DISTANCE_METRIC\": \"COSINE\",\n",
        "              #\"as_name\": \"desc_vector\",\n",
        "              \"DIM\": 768,\n",
        "              }))\n",
        "\n",
        "client.ft(INDEX_NAME).create_index(schema,\n",
        "      definition=IndexDefinition(prefix=[\"trading:securitylot:\"], index_type=IndexType.JSON))\n"
      ],
      "metadata": {
        "id": "c_ApoWSsDyuA"
      },
      "id": "c_ApoWSsDyuA",
      "execution_count": null,
      "outputs": []
    },
    {
      "cell_type": "code",
      "source": [
        "from langchain_google_vertexai import VertexAIEmbeddings\n",
        "from google.colab import auth\n",
        "from getpass import getpass\n",
        "\n",
        "from typing import Generator, List, Any\n",
        "import numpy as np\n",
        "\n",
        "import vertexai\n",
        "\n",
        "auth.authenticate_user()\n",
        "print('Authenticated')\n",
        "\n",
        "# input your GCP project ID and region for Vertex AI\n",
        "PROJECT_ID = getpass(\"PROJECT_ID:\")\n",
        "REGION = input(\"REGION:\")\n",
        "\n",
        "print(f'PROJECT_ID: {PROJECT_ID} & REGION: {REGION}')\n",
        "\n",
        "vertexai.init(project=PROJECT_ID, location=REGION)\n",
        "\n",
        "def embed_text(text=[]):\n",
        "   embeddings = VertexAIEmbeddings(model_name=\"text-embedding-004\")\n",
        "   return embeddings.embed_documents(text)\n",
        "\n",
        "def convert_embedding(emb: List[float]):\n",
        "   return np.array(emb).astype(np.float32).tobytes()\n"
      ],
      "metadata": {
        "id": "FtDISaRFRkee"
      },
      "id": "FtDISaRFRkee",
      "execution_count": null,
      "outputs": []
    },
    {
      "cell_type": "code",
      "source": [
        "import datetime\n",
        "import json\n",
        "import time\n",
        "from redis.commands.search.query import Query\n",
        "\n",
        "\n",
        "qry = '@embeddings:{false}'\n",
        "limit = 1000\n",
        "query = (Query(qry).paging(0, limit).sort_by(\"date\"))\n",
        "docs = client.ft(\"idx_trading_security_lot\").search(query).docs\n",
        "\n",
        "doc_array = []\n",
        "desc_vector_list = []\n",
        "count = 0\n",
        "while len(docs) > 0:\n",
        "    for doc in docs:\n",
        "        temp = json.loads(doc.json)\n",
        "        temp['id'] = doc.id\n",
        "        doc_array.append(temp)\n",
        "        count += 1\n",
        "\n",
        "        if len(doc_array) == 1000:\n",
        "            vectors = embed_text([d['desc']for d in doc_array])\n",
        "\n",
        "            desc_vector_list.extend(vectors)\n",
        "            print(desc_vector_list)\n",
        "            pipeline = client.pipeline()\n",
        "            for index, vec in enumerate(desc_vector_list):\n",
        "                d = doc_array[index]\n",
        "                d['desc_vector'] = vec\n",
        "                d['embeddings'] = True\n",
        "                if index < 4:\n",
        "                  print(d)\n",
        "                pipeline.json().set(d['id'], \"$\", d)\n",
        "            pipeline.execute()\n",
        "\n",
        "            desc_vector_list = []\n",
        "            doc_array = []\n",
        "            time.sleep(5)\n",
        "\n",
        "    if len(doc_array) > 0:\n",
        "        print(f\"Inside second block {len(doc_array)}\")\n",
        "        vectors = embed_text([d['desc']for d in doc_array])\n",
        "        desc_vector_list.extend(vectors)\n",
        "        pipeline = client.pipeline()\n",
        "        index = 0\n",
        "        for index, vec in enumerate(desc_vector_list):\n",
        "            d = doc_array[index]\n",
        "            d['desc_vector'] = vec\n",
        "            d['embeddings'] = True\n",
        "            pipeline.json().set(d['id'], \"$\", d)\n",
        "        pipeline.execute()\n",
        "        print(f\"total rec --> {index}\")\n",
        "        desc_vector_list = []\n",
        "        doc_array = []\n",
        "        time.sleep(5)\n",
        "\n",
        "    query = (Query(qry).paging(0, limit).sort_by(\"date\"))\n",
        "    docs = client.ft(\"idx_trading_security_lot\").search(query).docs\n",
        "\n",
        "print(f\"Total record count: {count}\")\n"
      ],
      "metadata": {
        "colab": {
          "base_uri": "https://localhost:8080/"
        },
        "id": "j2y0bdiEVvdG",
        "outputId": "3af53e99-e1b1-45b2-8e32-e761555135a2"
      },
      "id": "j2y0bdiEVvdG",
      "execution_count": 27,
      "outputs": [
        {
          "output_type": "stream",
          "name": "stdout",
          "text": [
            "Total record count: 0\n"
          ]
        }
      ]
    },
    {
      "cell_type": "code",
      "source": [
        "import numpy as np\n",
        "\n",
        "accNo = 'ACC10000'\n",
        "queryString = f'(@accountNo:{accNo})=>[KNN 100 @desc_vector $query_vector ]'\n",
        "query = (\n",
        "    Query(f'(@accountNo:{accNo})')\n",
        "     .paging(0, 200)\n",
        "     .return_fields('desc')\n",
        "     .dialect(2)\n",
        ")\n",
        "\n",
        "qry = \"How many stocks credited to accountNo ACC10000 so far?\"\n",
        "\n",
        "result_docs = client.ft(INDEX_NAME).search(query).docs\n",
        "\n",
        "desc_collection = []\n",
        "for d in result_docs:\n",
        "  desc_collection.append(d.desc)\n",
        "\n",
        "contexts = \"-\" + \"\\n-\".join([str for str in desc_collection])\n",
        "\n",
        "print(contexts)\n"
      ],
      "metadata": {
        "colab": {
          "base_uri": "https://localhost:8080/"
        },
        "id": "feOuI6LwSlVf",
        "outputId": "811eb27b-545a-435b-fe7a-952cd744d36a"
      },
      "id": "feOuI6LwSlVf",
      "execution_count": 39,
      "outputs": [
        {
          "output_type": "stream",
          "name": "stdout",
          "text": [
            "-14-Jul-2023: 2 ABCMOTORS stocks having unit price of INR 623.0 credited to accountNo ACC10000. The transaction value is INR 1246.0\n",
            "-19-Jul-2023: 2 ABCMOTORS stocks having unit price of INR 614.0 credited to accountNo ACC10000. The transaction value is INR 1228.0\n",
            "-21-Jul-2023: 10 ABCMOTORS stocks having unit price of INR 621.0 credited to accountNo ACC10000. The transaction value is INR 6210.0\n",
            "-26-Jul-2023: 5 ABCFOOD stocks having unit price of INR 22790.9 credited to accountNo ACC10000. The transaction value is INR 113954.5\n",
            "-02-Aug-2023: 1 ABCFOOD stocks having unit price of INR 22690.0 credited to accountNo ACC10000. The transaction value is INR 22690.0\n",
            "-02-Aug-2023: 14 ABCBANK stocks having unit price of INR 1642.0 credited to accountNo ACC10000. The transaction value is INR 22988.0\n",
            "-08-Aug-2023: 2 ABCBANK stocks having unit price of INR 1651.7 credited to accountNo ACC10000. The transaction value is INR 3303.4\n",
            "-08-Aug-2023: 1 ABCMOTORS stocks having unit price of INR 612.55 credited to accountNo ACC10000. The transaction value is INR 612.55\n",
            "-31-Aug-2023: 3 ABCBANK stocks having unit price of INR 1579.0 credited to accountNo ACC10000. The transaction value is INR 4737.0\n",
            "-06-Sep-2023: 1 ABCFOOD stocks having unit price of INR 21954.45 credited to accountNo ACC10000. The transaction value is INR 21954.45\n",
            "-07-Sep-2023: 12 ABCMOTORS stocks having unit price of INR 610.9 credited to accountNo ACC10000. The transaction value is INR 7330.8\n",
            "-13-Sep-2023: 6 ABCFOOD stocks having unit price of INR 22275.55 credited to accountNo ACC10000. The transaction value is INR 133653.3\n",
            "-29-Sep-2023: 2 ABCMOTORS stocks having unit price of INR 618.7 credited to accountNo ACC10000. The transaction value is INR 1237.4\n",
            "-03-Oct-2023: 10 ABCBANK stocks having unit price of INR 1527.0 credited to accountNo ACC10000. The transaction value is INR 15270.0\n",
            "-10-Oct-2023: 3 ABCFOOD stocks having unit price of INR 22960.0 credited to accountNo ACC10000. The transaction value is INR 68880.0\n",
            "-10-Oct-2023: 17 ABCMOTORS stocks having unit price of INR 620.0 credited to accountNo ACC10000. The transaction value is INR 10540.0\n",
            "-18-Oct-2023: 10 ABCMOTORS stocks having unit price of INR 658.6 credited to accountNo ACC10000. The transaction value is INR 6586.0\n",
            "-23-Oct-2023: 2 ABCFOOD stocks having unit price of INR 24300.0 credited to accountNo ACC10000. The transaction value is INR 48600.0\n",
            "-01-Nov-2023: 2 ABCFOOD stocks having unit price of INR 24200.0 credited to accountNo ACC10000. The transaction value is INR 48400.0\n",
            "-08-Nov-2023: 15 ABCFOOD stocks having unit price of INR 24369.05 credited to accountNo ACC10000. The transaction value is INR 365535.75\n",
            "-10-Nov-2023: 17 ABCMOTORS stocks having unit price of INR 649.35 credited to accountNo ACC10000. The transaction value is INR 11038.95\n",
            "-12-Nov-2023: 1 ABCFOOD stocks having unit price of INR 24340.0 credited to accountNo ACC10000. The transaction value is INR 24340.0\n",
            "-16-Nov-2023: 1 ABCMOTORS stocks having unit price of INR 674.0 credited to accountNo ACC10000. The transaction value is INR 674.0\n",
            "-23-Nov-2023: 7 ABCBANK stocks having unit price of INR 1508.5 credited to accountNo ACC10000. The transaction value is INR 10559.5\n",
            "-24-Nov-2023: 8 ABCFOOD stocks having unit price of INR 24450.0 credited to accountNo ACC10000. The transaction value is INR 195600.0\n",
            "-11-Dec-2023: 4 ABCFOOD stocks having unit price of INR 24880.0 credited to accountNo ACC10000. The transaction value is INR 99520.0\n",
            "-14-Dec-2023: 11 ABCFOOD stocks having unit price of INR 25144.0 credited to accountNo ACC10000. The transaction value is INR 276584.0\n",
            "-22-Dec-2023: 5 ABCBANK stocks having unit price of INR 1683.6 credited to accountNo ACC10000. The transaction value is INR 8418.0\n",
            "-26-Dec-2023: 2 ABCFOOD stocks having unit price of INR 25486.0 credited to accountNo ACC10000. The transaction value is INR 50972.0\n",
            "-26-Dec-2023: 9 ABCMOTORS stocks having unit price of INR 727.4 credited to accountNo ACC10000. The transaction value is INR 6546.6\n",
            "-28-Dec-2023: 3 ABCFOOD stocks having unit price of INR 25869.85 credited to accountNo ACC10000. The transaction value is INR 77609.55\n",
            "-02-Jan-2024: 12 ABCFOOD stocks having unit price of INR 27500.0 credited to accountNo ACC10000. The transaction value is INR 330000.0\n",
            "-08-Jan-2024: 8 ABCMOTORS stocks having unit price of INR 798.4 credited to accountNo ACC10000. The transaction value is INR 6387.2\n",
            "-09-Jan-2024: 9 ABCMOTORS stocks having unit price of INR 799.95 credited to accountNo ACC10000. The transaction value is INR 7199.55\n",
            "-11-Jan-2024: 6 ABCFOOD stocks having unit price of INR 2580.0 credited to accountNo ACC10000. The transaction value is INR 15480.0\n",
            "-30-Jan-2024: 3 ABCBANK stocks having unit price of INR 1454.55 credited to accountNo ACC10000. The transaction value is INR 4363.65\n",
            "-02-Feb-2024: 2 ABCMOTORS stocks having unit price of INR 886.0 credited to accountNo ACC10000. The transaction value is INR 1772.0\n",
            "-05-Feb-2024: 3 ABCBANK stocks having unit price of INR 1446.0 credited to accountNo ACC10000. The transaction value is INR 4338.0\n",
            "-09-Feb-2024: 6 ABCBANK stocks having unit price of INR 1392.15 credited to accountNo ACC10000. The transaction value is INR 8352.9\n",
            "-13-Feb-2024: 12 ABCFOOD stocks having unit price of INR 2474.0 credited to accountNo ACC10000. The transaction value is INR 29688.0\n",
            "-15-Feb-2024: 6 ABCBANK stocks having unit price of INR 1385.0 credited to accountNo ACC10000. The transaction value is INR 8310.0\n",
            "-21-Feb-2024: 11 ABCBANK stocks having unit price of INR 1464.0 credited to accountNo ACC10000. The transaction value is INR 16104.0\n",
            "-22-Feb-2024: 14 ABCFOOD stocks having unit price of INR 2560.0 credited to accountNo ACC10000. The transaction value is INR 35840.0\n",
            "-27-Feb-2024: 4 ABCBANK stocks having unit price of INR 1413.55 credited to accountNo ACC10000. The transaction value is INR 5654.2\n",
            "-27-Feb-2024: 1 ABCMOTORS stocks having unit price of INR 936.75 credited to accountNo ACC10000. The transaction value is INR 936.75\n",
            "-28-Feb-2024: 2 ABCFOOD stocks having unit price of INR 2601.0 credited to accountNo ACC10000. The transaction value is INR 5202.0\n",
            "-28-Feb-2024: 1 ABCMOTORS stocks having unit price of INR 966.15 credited to accountNo ACC10000. The transaction value is INR 966.15\n",
            "-04-Mar-2024: 14 ABCMOTORS stocks having unit price of INR 993.25 credited to accountNo ACC10000. The transaction value is INR 13905.5\n",
            "-07-Mar-2024: 4 ABCFOOD stocks having unit price of INR 2530.0 credited to accountNo ACC10000. The transaction value is INR 10120.0\n",
            "-11-Mar-2024: 6 ABCFOOD stocks having unit price of INR 2560.95 credited to accountNo ACC10000. The transaction value is INR 15365.699999999997\n",
            "-12-Mar-2024: 1 ABCFOOD stocks having unit price of INR 2606.05 credited to accountNo ACC10000. The transaction value is INR 2606.05\n",
            "-14-Mar-2024: 1 ABCFOOD stocks having unit price of INR 2590.0 credited to accountNo ACC10000. The transaction value is INR 2590.0\n",
            "-14-Mar-2024: 2 ABCMOTORS stocks having unit price of INR 964.95 credited to accountNo ACC10000. The transaction value is INR 1929.9\n",
            "-15-Mar-2024: 1 ABCMOTORS stocks having unit price of INR 968.4 credited to accountNo ACC10000. The transaction value is INR 968.4\n",
            "-21-Mar-2024: 1 ABCFOOD stocks having unit price of INR 2551.0 credited to accountNo ACC10000. The transaction value is INR 2551.0\n",
            "-28-Mar-2024: 2 ABCFOOD stocks having unit price of INR 2567.05 credited to accountNo ACC10000. The transaction value is INR 5134.1\n",
            "-02-Apr-2024: 1 ABCBANK stocks having unit price of INR 1465.15 credited to accountNo ACC10000. The transaction value is INR 1465.15\n",
            "-03-Apr-2024: 2 ABCFOOD stocks having unit price of INR 2623.3 credited to accountNo ACC10000. The transaction value is INR 5246.6\n",
            "-04-Apr-2024: 8 ABCBANK stocks having unit price of INR 1504.0 credited to accountNo ACC10000. The transaction value is INR 12032.0\n",
            "-22-Apr-2024: 10 ABCBANK stocks having unit price of INR 1557.4 credited to accountNo ACC10000. The transaction value is INR 15574.0\n",
            "-06-May-2024: 1 ABCBANK stocks having unit price of INR 1522.0 credited to accountNo ACC10000. The transaction value is INR 1522.0\n",
            "-07-May-2024: 7 ABCBANK stocks having unit price of INR 1521.95 credited to accountNo ACC10000. The transaction value is INR 10653.65\n",
            "-14-May-2024: 3 ABCFOOD stocks having unit price of INR 2506.1 credited to accountNo ACC10000. The transaction value is INR 7518.3\n",
            "-15-May-2024: 2 ABCBANK stocks having unit price of INR 1459.7 credited to accountNo ACC10000. The transaction value is INR 2919.4\n",
            "-16-May-2024: 8 ABCFOOD stocks having unit price of INR 2470.0 credited to accountNo ACC10000. The transaction value is INR 19760.0\n",
            "-16-May-2024: 6 ABCBANK stocks having unit price of INR 1446.05 credited to accountNo ACC10000. The transaction value is INR 8676.3\n",
            "-17-May-2024: 9 ABCBANK stocks having unit price of INR 1446.2 credited to accountNo ACC10000. The transaction value is INR 13015.8\n",
            "-18-May-2024: 1 ABCBANK stocks having unit price of INR 1466.0 credited to accountNo ACC10000. The transaction value is INR 1466.0\n",
            "-23-May-2024: 1 ABCMOTORS stocks having unit price of INR 950.0 credited to accountNo ACC10000. The transaction value is INR 950.0\n",
            "-28-May-2024: 13 ABCBANK stocks having unit price of INR 1530.1 credited to accountNo ACC10000. The transaction value is INR 19891.3\n",
            "-29-May-2024: 3 ABCBANK stocks having unit price of INR 1518.0 credited to accountNo ACC10000. The transaction value is INR 4554.0\n",
            "-30-May-2024: 8 ABCMOTORS stocks having unit price of INR 943.5 credited to accountNo ACC10000. The transaction value is INR 7548.0\n",
            "-03-Jun-2024: 5 ABCMOTORS stocks having unit price of INR 963.0 credited to accountNo ACC10000. The transaction value is INR 4815.0\n",
            "-06-Jun-2024: 6 ABCBANK stocks having unit price of INR 1564.9 credited to accountNo ACC10000. The transaction value is INR 9389.4\n",
            "-10-Jun-2024: 3 ABCBANK stocks having unit price of INR 1574.0 credited to accountNo ACC10000. The transaction value is INR 4722.0\n",
            "-24-Jun-2024: 6 ABCBANK stocks having unit price of INR 1647.0 credited to accountNo ACC10000. The transaction value is INR 9882.0\n"
          ]
        }
      ]
    },
    {
      "cell_type": "code",
      "source": [
        "#@title Invoke Google Vertex LLM using Langchain\n",
        "# This is where the Langchain brings all the components together in a form of a simple QnA chain\n",
        "from langchain_google_vertexai import VertexAI\n",
        "\n",
        "\n",
        "def create_prompt(prompt_template: str, **kwargs) -> str:\n",
        "  return prompt_template.format(**kwargs)\n",
        "\n",
        "PROMPT = \"\"\"You are a helpful virtual financial & investment assistant. Use the provided context to answer the questions related to stocks that gets credited to the account number. Don't blindly make things up.\n",
        "\n",
        "Context:\n",
        "{context}\n",
        "\n",
        "QUESTION:\n",
        "{query}?\n",
        "\n",
        "ANSWER:\"\"\"\n",
        "\n",
        "\n",
        "query1 = \"How many stocks has been credited to accountNo (account number) ACC10000?\"\n",
        "query2 = \"Which is the most profitable stock in terms of total financial value for ACC10000?\"\n",
        "query3 = \"Which stock has the most financial value for ACC10000?\"\n",
        "\n",
        "\n",
        "full_prompt = create_prompt(\n",
        "        prompt_template=PROMPT,\n",
        "        context=contexts,\n",
        "        query=query3\n",
        "      )\n",
        "\n",
        "#generation_model = TextGenerationModel.from_pretrained(\"text-bison@001\")\n",
        "\n",
        "\n",
        "llm = VertexAI(\n",
        "    model_name=\"gemini-1.5-pro-002\",\n",
        "    max_output_tokens=2048,\n",
        "    temperature=0.5,\n",
        "    verbose=True,\n",
        ")\n",
        "\n",
        "llm.invoke(full_prompt)\n"
      ],
      "metadata": {
        "id": "DYtdUxxFSxh9",
        "colab": {
          "base_uri": "https://localhost:8080/",
          "height": 214
        },
        "outputId": "43a2b07f-69d1-47c3-c1bb-e0220bc6b390"
      },
      "id": "DYtdUxxFSxh9",
      "execution_count": 43,
      "outputs": [
        {
          "output_type": "execute_result",
          "data": {
            "text/plain": [
              "\"Here's how to determine which stock has the most financial value for account ACC10000:\\n\\n1. **Calculate total value per stock:**  We need to sum the total transaction values for each stock type.\\n\\n    * **ABCMOTORS:** 1246.0 + 1228.0 + 6210.0 + 612.55 + 7330.8 + 1237.4 + 10540.0 + 6586.0 + 11038.95 + 674.0 + 6546.6 + 6387.2 + 7199.55 + 1772.0 + 936.75 + 966.15 + 13905.5 + 1929.9 + 968.4 + 950.0 + 7548.0 + 4815.0 =  118,549.85\\n\\n    * **ABCFOOD:** 113954.5 + 22690.0 + 21954.45 + 133653.3 + 68880.0 + 48600.0 + 48400.0 + 365535.75 + 24340.0 + 195600.0 + 99520.0 + 276584.0 + 50972.0 + 77609.55 + 330000.0 + 15480.0 + 29688.0 + 35840.0 + 5202.0 + 10120.0 + 15365.7 + 2606.05 + 2590.0 + 2551.0 + 5134.1 + 5246.6 + 7518.3 + 19760.0 = 2,005,747.35\\n\\n    * **ABCBANK:** 22988.0 + 3303.4 + 4737.0 + 15270.0 + 10559.5 + 8418.0 + 4363.65 + 4338.0 + 8352.9 + 8310.0 + 16104.0 + 5654.2 + 1465.15 + 12032.0 + 15574.0 + 1522.0 + 10653.65 + 2919.4 + 8676.3 + 13015.8 + 1466.0 + 19891.3 + 4554.0 + 9389.4 + 4722.0 + 9882.0 = 212,487.6\\n\\n\\n2. **Compare the total values:**\\n\\n    * ABCMOTORS: 118,549.85\\n    * ABCFOOD: 2,005,747.35\\n    * ABCBANK: 212,487.6\\n\\n**ABCFOOD has the highest total transaction value (INR 2,005,747.35) and therefore represents the most financial value for account ACC10000.**\\n\""
            ],
            "application/vnd.google.colaboratory.intrinsic+json": {
              "type": "string"
            }
          },
          "metadata": {},
          "execution_count": 43
        }
      ]
    },
    {
      "cell_type": "code",
      "source": [
        "import gradio as gr\n",
        "\n",
        "def handle(query):\n",
        "    response = qa.run(query)\n",
        "    return response\n",
        "\n",
        "iface = gr.Interface(fn=handle, inputs=\"text\", outputs=\"text\")\n",
        "iface.launch(share=True)"
      ],
      "metadata": {
        "id": "UmsYlwP9XZ2G"
      },
      "id": "UmsYlwP9XZ2G",
      "execution_count": null,
      "outputs": []
    },
    {
      "cell_type": "code",
      "source": [
        "iface.close()"
      ],
      "metadata": {
        "colab": {
          "base_uri": "https://localhost:8080/"
        },
        "id": "nvmnrq_3YY6p",
        "outputId": "2eecf130-23be-4791-e8f9-0d0e28eb2e7d"
      },
      "id": "nvmnrq_3YY6p",
      "execution_count": null,
      "outputs": [
        {
          "output_type": "stream",
          "name": "stdout",
          "text": [
            "Closing server running on port: 7860\n"
          ]
        }
      ]
    }
  ],
  "metadata": {
    "kernelspec": {
      "display_name": "Python 3",
      "language": "python",
      "name": "python3"
    },
    "language_info": {
      "codemirror_mode": {
        "name": "ipython",
        "version": 3
      },
      "file_extension": ".py",
      "mimetype": "text/x-python",
      "name": "python",
      "nbconvert_exporter": "python",
      "pygments_lexer": "ipython3",
      "version": "3.10.10"
    },
    "colab": {
      "provenance": [],
      "toc_visible": true
    }
  },
  "nbformat": 4,
  "nbformat_minor": 5
}